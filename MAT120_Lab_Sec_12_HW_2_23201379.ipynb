{
 "cells": [
  {
   "cell_type": "code",
   "execution_count": 4,
   "metadata": {},
   "outputs": [
    {
     "name": "stdout",
     "output_type": "stream",
     "text": [
      "================== Given Equatiion ==================\n"
     ]
    },
    {
     "data": {
      "text/latex": [
       "$\\displaystyle 4 e^{x} + 9 e^{- x}$"
      ],
      "text/plain": [
       "4*exp(x) + 9*exp(-x)"
      ]
     },
     "metadata": {},
     "output_type": "display_data"
    },
    {
     "name": "stdout",
     "output_type": "stream",
     "text": [
      "==================== After 1st Derivative ==============\n"
     ]
    },
    {
     "data": {
      "text/latex": [
       "$\\displaystyle 4 e^{x} - 9 e^{- x}$"
      ],
      "text/plain": [
       "4*exp(x) - 9*exp(-x)"
      ]
     },
     "metadata": {},
     "output_type": "display_data"
    },
    {
     "name": "stdout",
     "output_type": "stream",
     "text": [
      "==================== After 2nd Derivative ==============\n"
     ]
    },
    {
     "data": {
      "text/latex": [
       "$\\displaystyle 4 e^{x} + 9 e^{- x}$"
      ],
      "text/plain": [
       "4*exp(x) + 9*exp(-x)"
      ]
     },
     "metadata": {},
     "output_type": "display_data"
    },
    {
     "name": "stdout",
     "output_type": "stream",
     "text": [
      "===============The roots of given equations are :===========\n"
     ]
    },
    {
     "data": {
      "text/plain": [
       "[log(3/2) + I*pi, log(3/2)]"
      ]
     },
     "metadata": {},
     "output_type": "display_data"
    },
    {
     "name": "stdout",
     "output_type": "stream",
     "text": [
      "===================Results=====================\n",
      "No extremum for x = log(3/2) + I*pi\n",
      "Minima = 12 for x = log(3/2)\n"
     ]
    }
   ],
   "source": [
    "from sympy import *\n",
    "import math \n",
    "import numpy as np\n",
    "\n",
    "print ('================== Given Equatiion ==================')\n",
    "x = Symbol('x')\n",
    "f = 4*exp(x) + 9*exp(-x)\n",
    "display (f)\n",
    "print('==================== After 1st Derivative ==============')\n",
    "df = diff(f , x)\n",
    "display (df)\n",
    "print('==================== After 2nd Derivative ==============')\n",
    "dff = diff(f , x ,2)\n",
    "display(dff)\n",
    "roots  = solve(df , x)\n",
    "print ('===============The roots of given equations are :===========' )\n",
    "display (roots)\n",
    "print('===================Results=====================')\n",
    "for index in roots :\n",
    "    if np.imag(complex(index)) != 0 :\n",
    "        print (f'No extremum for x = {index}')\n",
    "    elif dff.subs(x , index) < 0 :\n",
    "        print(f'Maxima = {f.subs(x , index)} for x = {index}')\n",
    "    else :\n",
    "        print(f'Minima = {f.subs(x , index)} for x = {index}')"
   ]
  },
  {
   "cell_type": "code",
   "execution_count": 3,
   "metadata": {},
   "outputs": [
    {
     "name": "stdout",
     "output_type": "stream",
     "text": [
      "================== Given Equatiion ==================\n"
     ]
    },
    {
     "data": {
      "text/latex": [
       "$\\displaystyle x^{3} - 6 x^{2} + 24 x + 4$"
      ],
      "text/plain": [
       "x**3 - 6*x**2 + 24*x + 4"
      ]
     },
     "metadata": {},
     "output_type": "display_data"
    },
    {
     "name": "stdout",
     "output_type": "stream",
     "text": [
      "==================== After 1st Derivative ==============\n"
     ]
    },
    {
     "data": {
      "text/latex": [
       "$\\displaystyle 3 x^{2} - 12 x + 24$"
      ],
      "text/plain": [
       "3*x**2 - 12*x + 24"
      ]
     },
     "metadata": {},
     "output_type": "display_data"
    },
    {
     "name": "stdout",
     "output_type": "stream",
     "text": [
      "==================== After 2nd Derivative ==============\n"
     ]
    },
    {
     "data": {
      "text/latex": [
       "$\\displaystyle 6 \\left(x - 2\\right)$"
      ],
      "text/plain": [
       "6*(x - 2)"
      ]
     },
     "metadata": {},
     "output_type": "display_data"
    },
    {
     "name": "stdout",
     "output_type": "stream",
     "text": [
      "===============The roots of given equations are :===========\n"
     ]
    },
    {
     "data": {
      "text/latex": [
       "$\\displaystyle \\left\\{2 - 2 i, 2 + 2 i\\right\\}$"
      ],
      "text/plain": [
       "{2 - 2*I, 2 + 2*I}"
      ]
     },
     "metadata": {},
     "output_type": "display_data"
    },
    {
     "name": "stdout",
     "output_type": "stream",
     "text": [
      "===================Results=====================\n",
      "No extremum for x = 2 - 2*I\n",
      "No extremum for x = 2 + 2*I\n"
     ]
    }
   ],
   "source": [
    "from sympy import *\n",
    "import math \n",
    "import numpy as np\n",
    "\n",
    "print ('================== Given Equatiion ==================')\n",
    "x = Symbol('x')\n",
    "f = x**3 - 6*x**2 + 24*x + 4\n",
    "display (f)\n",
    "print('==================== After 1st Derivative ==============')\n",
    "df = diff(f , x)\n",
    "display (df)\n",
    "print('==================== After 2nd Derivative ==============')\n",
    "dff = diff(f , x ,2)\n",
    "display(dff)\n",
    "roots  = solve(df , x)\n",
    "disp_roots = solveset(df , x)\n",
    "print ('===============The roots of given equations are :===========' )\n",
    "display (disp_roots)\n",
    "print('===================Results=====================')\n",
    "for index in roots :\n",
    "    if np.imag(complex(index)) != 0 :\n",
    "        print (f'No extremum for x = {index}')\n",
    "    elif dff.subs(x , index) < 0 :\n",
    "        print(f'Maxima = {f.subs(x , index)} for x = {index}')\n",
    "    else :\n",
    "        print(f'Minima = {f.subs(x , index)} for x = {index}')"
   ]
  },
  {
   "cell_type": "code",
   "execution_count": 2,
   "metadata": {},
   "outputs": [
    {
     "data": {
      "image/png": "[encoded data removed]",
      "text/plain": [
       "<Figure size 640x480 with 1 Axes>"
      ]
     },
     "metadata": {},
     "output_type": "display_data"
    },
    {
     "data": {
      "text/plain": [
       "<sympy.plotting.plot.Plot at 0x191804ef920>"
      ]
     },
     "execution_count": 2,
     "metadata": {},
     "output_type": "execute_result"
    }
   ],
   "source": [
    "from sympy import *\n",
    "x = Symbol('x')\n",
    "plot((1+2*sin(x)+3*cos(x)**2) , (x , 0 , pi/2) , title = '(1+2*sin(x)+3*cos(x)**2) curve' , xlabel = 'x' , ylabel = '1+2*sin(x)+3*cos(x)**2'   )"
   ]
  }
 ],
 "metadata": {
  "kernelspec": {
   "display_name": "Python 3",
   "language": "python",
   "name": "python3"
  },
  "language_info": {
   "codemirror_mode": {
    "name": "ipython",
    "version": 3
   },
   "file_extension": ".py",
   "mimetype": "text/x-python",
   "name": "python",
   "nbconvert_exporter": "python",
   "pygments_lexer": "ipython3",
   "version": "3.12.2"
  }
 },
 "nbformat": 4,
 "nbformat_minor": 2
}

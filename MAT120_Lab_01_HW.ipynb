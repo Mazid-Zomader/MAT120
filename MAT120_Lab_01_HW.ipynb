{
 "cells": [
  {
   "cell_type": "markdown",
   "metadata": {},
   "source": [
    "Name  : Abdullah Al Mazid Zomader\n",
    "\n",
    "ID    : 23201379\n",
    "\n",
    "Sec   : 12"
   ]
  },
  {
   "cell_type": "code",
   "execution_count": 1,
   "metadata": {},
   "outputs": [
    {
     "name": "stdout",
     "output_type": "stream",
     "text": [
      "Ans to the ques no : 01\n",
      "Given Equation ,\n"
     ]
    },
    {
     "data": {
      "text/latex": [
       "$\\displaystyle 4 \\cos{\\left(x \\right)} \\cos{\\left(2 x \\right)} \\cos{\\left(3 x \\right)} - 1$"
      ],
      "text/plain": [
       "4*cos(x)*cos(2*x)*cos(3*x) - 1"
      ]
     },
     "metadata": {},
     "output_type": "display_data"
    },
    {
     "name": "stdout",
     "output_type": "stream",
     "text": [
      "\n",
      "========== Without Interval ==========\n",
      "\n"
     ]
    },
    {
     "data": {
      "text/latex": [
       "$\\displaystyle \\left\\{2 n \\pi + \\frac{4 \\pi}{3}\\; \\middle|\\; n \\in \\mathbb{Z}\\right\\} \\cup \\left\\{2 n \\pi + \\frac{2 \\pi}{3}\\; \\middle|\\; n \\in \\mathbb{Z}\\right\\} \\cup \\left\\{2 n \\pi + \\frac{5 \\pi}{3}\\; \\middle|\\; n \\in \\mathbb{Z}\\right\\} \\cup \\left\\{2 n \\pi + \\frac{\\pi}{3}\\; \\middle|\\; n \\in \\mathbb{Z}\\right\\} \\cup \\left\\{2 n \\pi + \\operatorname{atan}{\\left(\\frac{\\sqrt{2 - \\sqrt{2}}}{\\sqrt{\\sqrt{2} + 2}} \\right)}\\; \\middle|\\; n \\in \\mathbb{Z}\\right\\} \\cup \\left\\{2 n \\pi + \\operatorname{atan}{\\left(\\frac{\\sqrt{2 - \\sqrt{2}}}{\\sqrt{\\sqrt{2} + 2}} \\right)} + \\pi\\; \\middle|\\; n \\in \\mathbb{Z}\\right\\} \\cup \\left\\{2 n \\pi - \\operatorname{atan}{\\left(\\frac{\\sqrt{\\sqrt{2} + 2}}{\\sqrt{2 - \\sqrt{2}}} \\right)} + \\pi\\; \\middle|\\; n \\in \\mathbb{Z}\\right\\} \\cup \\left\\{2 n \\pi - \\operatorname{atan}{\\left(\\frac{\\sqrt{\\sqrt{2} + 2}}{\\sqrt{2 - \\sqrt{2}}} \\right)} + 2 \\pi\\; \\middle|\\; n \\in \\mathbb{Z}\\right\\} \\cup \\left\\{2 n \\pi + \\operatorname{atan}{\\left(\\frac{\\sqrt{2 - \\sqrt{2}} + \\sqrt{\\sqrt{2} + 2}}{- \\sqrt{2 - \\sqrt{2}} + \\sqrt{\\sqrt{2} + 2}} \\right)}\\; \\middle|\\; n \\in \\mathbb{Z}\\right\\} \\cup \\left\\{2 n \\pi + \\operatorname{atan}{\\left(\\frac{- \\sqrt{\\sqrt{2} + 2} + \\sqrt{2 - \\sqrt{2}}}{\\sqrt{2 - \\sqrt{2}} + \\sqrt{\\sqrt{2} + 2}} \\right)} + 2 \\pi\\; \\middle|\\; n \\in \\mathbb{Z}\\right\\} \\cup \\left\\{2 n \\pi + \\operatorname{atan}{\\left(\\frac{- \\sqrt{2 - \\sqrt{2}} + \\sqrt{\\sqrt{2} + 2}}{- \\sqrt{\\sqrt{2} + 2} - \\sqrt{2 - \\sqrt{2}}} \\right)} + \\pi\\; \\middle|\\; n \\in \\mathbb{Z}\\right\\} \\cup \\left\\{2 n \\pi + \\operatorname{atan}{\\left(\\frac{- \\sqrt{\\sqrt{2} + 2} - \\sqrt{2 - \\sqrt{2}}}{- \\sqrt{\\sqrt{2} + 2} + \\sqrt{2 - \\sqrt{2}}} \\right)} + \\pi\\; \\middle|\\; n \\in \\mathbb{Z}\\right\\}$"
      ],
      "text/plain": [
       "Union(ImageSet(Lambda(_n, 2*_n*pi + 4*pi/3), Integers), ImageSet(Lambda(_n, 2*_n*pi + 2*pi/3), Integers), ImageSet(Lambda(_n, 2*_n*pi + 5*pi/3), Integers), ImageSet(Lambda(_n, 2*_n*pi + pi/3), Integers), ImageSet(Lambda(_n, 2*_n*pi + atan(sqrt(2 - sqrt(2))/sqrt(sqrt(2) + 2))), Integers), ImageSet(Lambda(_n, 2*_n*pi - atan(sqrt(sqrt(2) + 2)/sqrt(2 - sqrt(2))) + 2*pi), Integers), ImageSet(Lambda(_n, 2*_n*pi - atan(sqrt(sqrt(2) + 2)/sqrt(2 - sqrt(2))) + pi), Integers), ImageSet(Lambda(_n, 2*_n*pi + atan(sqrt(2 - sqrt(2))/sqrt(sqrt(2) + 2)) + pi), Integers), ImageSet(Lambda(_n, 2*_n*pi + atan((sqrt(2 - sqrt(2)) + sqrt(sqrt(2) + 2))/(-sqrt(2 - sqrt(2)) + sqrt(sqrt(2) + 2)))), Integers), ImageSet(Lambda(_n, 2*_n*pi + atan((-sqrt(sqrt(2) + 2) + sqrt(2 - sqrt(2)))/(sqrt(2 - sqrt(2)) + sqrt(sqrt(2) + 2))) + 2*pi), Integers), ImageSet(Lambda(_n, 2*_n*pi + atan((-sqrt(2 - sqrt(2)) + sqrt(sqrt(2) + 2))/(-sqrt(sqrt(2) + 2) - sqrt(2 - sqrt(2)))) + pi), Integers), ImageSet(Lambda(_n, 2*_n*pi + atan((-sqrt(sqrt(2) + 2) - sqrt(2 - sqrt(2)))/(-sqrt(sqrt(2) + 2) + sqrt(2 - sqrt(2)))) + pi), Integers))"
      ]
     },
     "metadata": {},
     "output_type": "display_data"
    },
    {
     "name": "stdout",
     "output_type": "stream",
     "text": [
      "\n",
      "\n",
      "\n",
      "========== With Interval ==========\n",
      "\n"
     ]
    },
    {
     "data": {
      "text/latex": [
       "$\\displaystyle \\left\\{- \\frac{2 \\pi}{3}, - \\frac{\\pi}{3}, \\frac{\\pi}{3}, \\frac{2 \\pi}{3}, - \\pi + \\operatorname{atan}{\\left(\\frac{\\sqrt{2 - \\sqrt{2}}}{\\sqrt{\\sqrt{2} + 2}} \\right)}, - \\pi + \\operatorname{atan}{\\left(\\frac{- \\sqrt{\\sqrt{2} + 2} - \\sqrt{2 - \\sqrt{2}}}{- \\sqrt{\\sqrt{2} + 2} + \\sqrt{2 - \\sqrt{2}}} \\right)}, \\pi - \\operatorname{atan}{\\left(\\frac{\\sqrt{\\sqrt{2} + 2}}{\\sqrt{2 - \\sqrt{2}}} \\right)}, \\operatorname{atan}{\\left(\\frac{- \\sqrt{2 - \\sqrt{2}} + \\sqrt{\\sqrt{2} + 2}}{- \\sqrt{\\sqrt{2} + 2} - \\sqrt{2 - \\sqrt{2}}} \\right)} + \\pi, - \\operatorname{atan}{\\left(\\frac{\\sqrt{\\sqrt{2} + 2}}{\\sqrt{2 - \\sqrt{2}}} \\right)}, \\operatorname{atan}{\\left(\\frac{\\sqrt{2 - \\sqrt{2}}}{\\sqrt{\\sqrt{2} + 2}} \\right)}, \\operatorname{atan}{\\left(\\frac{\\sqrt{2 - \\sqrt{2}} + \\sqrt{\\sqrt{2} + 2}}{- \\sqrt{2 - \\sqrt{2}} + \\sqrt{\\sqrt{2} + 2}} \\right)}, \\operatorname{atan}{\\left(\\frac{- \\sqrt{\\sqrt{2} + 2} + \\sqrt{2 - \\sqrt{2}}}{\\sqrt{2 - \\sqrt{2}} + \\sqrt{\\sqrt{2} + 2}} \\right)}\\right\\}$"
      ],
      "text/plain": [
       "{-2*pi/3, -pi/3, pi/3, 2*pi/3, -pi + atan(sqrt(2 - sqrt(2))/sqrt(sqrt(2) + 2)), -pi + atan((-sqrt(sqrt(2) + 2) - sqrt(2 - sqrt(2)))/(-sqrt(sqrt(2) + 2) + sqrt(2 - sqrt(2)))), pi - atan(sqrt(sqrt(2) + 2)/sqrt(2 - sqrt(2))), atan((-sqrt(2 - sqrt(2)) + sqrt(sqrt(2) + 2))/(-sqrt(sqrt(2) + 2) - sqrt(2 - sqrt(2)))) + pi, -atan(sqrt(sqrt(2) + 2)/sqrt(2 - sqrt(2))), atan(sqrt(2 - sqrt(2))/sqrt(sqrt(2) + 2)), atan((sqrt(2 - sqrt(2)) + sqrt(sqrt(2) + 2))/(-sqrt(2 - sqrt(2)) + sqrt(sqrt(2) + 2))), atan((-sqrt(sqrt(2) + 2) + sqrt(2 - sqrt(2)))/(sqrt(2 - sqrt(2)) + sqrt(sqrt(2) + 2)))}"
      ]
     },
     "metadata": {},
     "output_type": "display_data"
    }
   ],
   "source": [
    "from sympy import * \n",
    "import math\n",
    "print('Ans to the ques no : 01')\n",
    "x = Symbol('x')\n",
    "f = 4*(cos(x))*(cos(2*x))*(cos(3*x)) - 1 \n",
    "print(f'Given Equation ,')\n",
    "display(f)\n",
    "print()\n",
    "print('========== Without Interval ==========')\n",
    "print()\n",
    "ans_1 = solveset(f,x)\n",
    "display(ans_1)\n",
    "print()\n",
    "print()\n",
    "print()\n",
    "print('========== With Interval ==========')\n",
    "print()\n",
    "i = Interval(-pi , pi)\n",
    "ans_2 = solveset(f , x , i)\n",
    "display(ans_2)"
   ]
  },
  {
   "cell_type": "code",
   "execution_count": 2,
   "metadata": {},
   "outputs": [
    {
     "name": "stdout",
     "output_type": "stream",
     "text": [
      "Ans to the ques no : 02\n",
      "Given Equation ,\n"
     ]
    },
    {
     "data": {
      "text/latex": [
       "$\\displaystyle 4 \\sin^{2}{\\left(x \\right)} + \\cos{\\left(x \\right)} - 5$"
      ],
      "text/plain": [
       "4*sin(x)**2 + cos(x) - 5"
      ]
     },
     "metadata": {},
     "output_type": "display_data"
    },
    {
     "name": "stdout",
     "output_type": "stream",
     "text": [
      "\n",
      "========== Without Interval ==========\n",
      "\n"
     ]
    },
    {
     "data": {
      "text/latex": [
       "$\\displaystyle \\left\\{- i \\left(i \\left(2 n \\pi + \\operatorname{atan}{\\left(\\frac{- 4 \\cdot 2^{\\frac{3}{4}} \\cdot \\sqrt[4]{3} \\cos{\\left(\\frac{\\operatorname{atan}{\\left(\\frac{\\sqrt{15}}{39} \\right)}}{2} \\right)} + \\sqrt{15}}{- 4 \\cdot 2^{\\frac{3}{4}} \\cdot \\sqrt[4]{3} \\sin{\\left(\\frac{\\operatorname{atan}{\\left(\\frac{\\sqrt{15}}{39} \\right)}}{2} \\right)} + 1} \\right)}\\right) + \\log{\\left(\\sqrt{- \\frac{\\sqrt{5} \\cdot 6^{\\frac{3}{4}} \\cos{\\left(\\frac{\\operatorname{atan}{\\left(\\frac{\\sqrt{15}}{39} \\right)}}{2} \\right)}}{8} - \\frac{2^{\\frac{3}{4}} \\cdot \\sqrt[4]{3} \\sin{\\left(\\frac{\\operatorname{atan}{\\left(\\frac{\\sqrt{15}}{39} \\right)}}{2} \\right)}}{8} + \\frac{\\sqrt{6} \\sin^{2}{\\left(\\frac{\\operatorname{atan}{\\left(\\frac{\\sqrt{15}}{39} \\right)}}{2} \\right)}}{2} + \\frac{1}{4} + \\frac{\\sqrt{6} \\cos^{2}{\\left(\\frac{\\operatorname{atan}{\\left(\\frac{\\sqrt{15}}{39} \\right)}}{2} \\right)}}{2}} \\right)}\\right)\\; \\middle|\\; n \\in \\mathbb{Z}\\right\\} \\cup \\left\\{- i \\left(i \\left(2 n \\pi + \\operatorname{atan}{\\left(\\frac{\\sqrt{15} + 4 \\cdot 2^{\\frac{3}{4}} \\cdot \\sqrt[4]{3} \\cos{\\left(\\frac{\\operatorname{atan}{\\left(\\frac{\\sqrt{15}}{39} \\right)}}{2} \\right)}}{4 \\cdot 2^{\\frac{3}{4}} \\cdot \\sqrt[4]{3} \\sin{\\left(\\frac{\\operatorname{atan}{\\left(\\frac{\\sqrt{15}}{39} \\right)}}{2} \\right)} + 1} \\right)}\\right) + \\log{\\left(\\sqrt{\\frac{\\sqrt{6} \\sin^{2}{\\left(\\frac{\\operatorname{atan}{\\left(\\frac{\\sqrt{15}}{39} \\right)}}{2} \\right)}}{2} + \\frac{2^{\\frac{3}{4}} \\cdot \\sqrt[4]{3} \\sin{\\left(\\frac{\\operatorname{atan}{\\left(\\frac{\\sqrt{15}}{39} \\right)}}{2} \\right)}}{8} + \\frac{1}{4} + \\frac{\\sqrt{5} \\cdot 6^{\\frac{3}{4}} \\cos{\\left(\\frac{\\operatorname{atan}{\\left(\\frac{\\sqrt{15}}{39} \\right)}}{2} \\right)}}{8} + \\frac{\\sqrt{6} \\cos^{2}{\\left(\\frac{\\operatorname{atan}{\\left(\\frac{\\sqrt{15}}{39} \\right)}}{2} \\right)}}{2}} \\right)}\\right)\\; \\middle|\\; n \\in \\mathbb{Z}\\right\\} \\cup \\left\\{- i \\left(i \\left(2 n \\pi + \\operatorname{atan}{\\left(\\frac{- \\sqrt{15} + 4 \\cdot 2^{\\frac{3}{4}} \\cdot \\sqrt[4]{3} \\cos{\\left(\\frac{\\operatorname{atan}{\\left(\\frac{\\sqrt{15}}{39} \\right)}}{2} \\right)}}{- 4 \\cdot 2^{\\frac{3}{4}} \\cdot \\sqrt[4]{3} \\sin{\\left(\\frac{\\operatorname{atan}{\\left(\\frac{\\sqrt{15}}{39} \\right)}}{2} \\right)} + 1} \\right)}\\right) + \\log{\\left(\\sqrt{- \\frac{\\sqrt{5} \\cdot 6^{\\frac{3}{4}} \\cos{\\left(\\frac{\\operatorname{atan}{\\left(\\frac{\\sqrt{15}}{39} \\right)}}{2} \\right)}}{8} - \\frac{2^{\\frac{3}{4}} \\cdot \\sqrt[4]{3} \\sin{\\left(\\frac{\\operatorname{atan}{\\left(\\frac{\\sqrt{15}}{39} \\right)}}{2} \\right)}}{8} + \\frac{\\sqrt{6} \\sin^{2}{\\left(\\frac{\\operatorname{atan}{\\left(\\frac{\\sqrt{15}}{39} \\right)}}{2} \\right)}}{2} + \\frac{1}{4} + \\frac{\\sqrt{6} \\cos^{2}{\\left(\\frac{\\operatorname{atan}{\\left(\\frac{\\sqrt{15}}{39} \\right)}}{2} \\right)}}{2}} \\right)}\\right)\\; \\middle|\\; n \\in \\mathbb{Z}\\right\\} \\cup \\left\\{- i \\left(i \\left(2 n \\pi + \\operatorname{atan}{\\left(\\frac{- 4 \\cdot 2^{\\frac{3}{4}} \\cdot \\sqrt[4]{3} \\cos{\\left(\\frac{\\operatorname{atan}{\\left(\\frac{\\sqrt{15}}{39} \\right)}}{2} \\right)} - \\sqrt{15}}{4 \\cdot 2^{\\frac{3}{4}} \\cdot \\sqrt[4]{3} \\sin{\\left(\\frac{\\operatorname{atan}{\\left(\\frac{\\sqrt{15}}{39} \\right)}}{2} \\right)} + 1} \\right)}\\right) + \\log{\\left(\\sqrt{\\frac{\\sqrt{6} \\sin^{2}{\\left(\\frac{\\operatorname{atan}{\\left(\\frac{\\sqrt{15}}{39} \\right)}}{2} \\right)}}{2} + \\frac{2^{\\frac{3}{4}} \\cdot \\sqrt[4]{3} \\sin{\\left(\\frac{\\operatorname{atan}{\\left(\\frac{\\sqrt{15}}{39} \\right)}}{2} \\right)}}{8} + \\frac{1}{4} + \\frac{\\sqrt{5} \\cdot 6^{\\frac{3}{4}} \\cos{\\left(\\frac{\\operatorname{atan}{\\left(\\frac{\\sqrt{15}}{39} \\right)}}{2} \\right)}}{8} + \\frac{\\sqrt{6} \\cos^{2}{\\left(\\frac{\\operatorname{atan}{\\left(\\frac{\\sqrt{15}}{39} \\right)}}{2} \\right)}}{2}} \\right)}\\right)\\; \\middle|\\; n \\in \\mathbb{Z}\\right\\}$"
      ],
      "text/plain": [
       "Union(ImageSet(Lambda(_n, -I*(I*(2*_n*pi + atan((-sqrt(15) + 4*2**(3/4)*3**(1/4)*cos(atan(sqrt(15)/39)/2))/(-4*2**(3/4)*3**(1/4)*sin(atan(sqrt(15)/39)/2) + 1))) + log(sqrt(-sqrt(5)*6**(3/4)*cos(atan(sqrt(15)/39)/2)/8 - 2**(3/4)*3**(1/4)*sin(atan(sqrt(15)/39)/2)/8 + sqrt(6)*sin(atan(sqrt(15)/39)/2)**2/2 + 1/4 + sqrt(6)*cos(atan(sqrt(15)/39)/2)**2/2)))), Integers), ImageSet(Lambda(_n, -I*(I*(2*_n*pi + atan((-4*2**(3/4)*3**(1/4)*cos(atan(sqrt(15)/39)/2) + sqrt(15))/(-4*2**(3/4)*3**(1/4)*sin(atan(sqrt(15)/39)/2) + 1))) + log(sqrt(-sqrt(5)*6**(3/4)*cos(atan(sqrt(15)/39)/2)/8 - 2**(3/4)*3**(1/4)*sin(atan(sqrt(15)/39)/2)/8 + sqrt(6)*sin(atan(sqrt(15)/39)/2)**2/2 + 1/4 + sqrt(6)*cos(atan(sqrt(15)/39)/2)**2/2)))), Integers), ImageSet(Lambda(_n, -I*(I*(2*_n*pi + atan((sqrt(15) + 4*2**(3/4)*3**(1/4)*cos(atan(sqrt(15)/39)/2))/(4*2**(3/4)*3**(1/4)*sin(atan(sqrt(15)/39)/2) + 1))) + log(sqrt(sqrt(6)*sin(atan(sqrt(15)/39)/2)**2/2 + 2**(3/4)*3**(1/4)*sin(atan(sqrt(15)/39)/2)/8 + 1/4 + sqrt(5)*6**(3/4)*cos(atan(sqrt(15)/39)/2)/8 + sqrt(6)*cos(atan(sqrt(15)/39)/2)**2/2)))), Integers), ImageSet(Lambda(_n, -I*(I*(2*_n*pi + atan((-4*2**(3/4)*3**(1/4)*cos(atan(sqrt(15)/39)/2) - sqrt(15))/(4*2**(3/4)*3**(1/4)*sin(atan(sqrt(15)/39)/2) + 1))) + log(sqrt(sqrt(6)*sin(atan(sqrt(15)/39)/2)**2/2 + 2**(3/4)*3**(1/4)*sin(atan(sqrt(15)/39)/2)/8 + 1/4 + sqrt(5)*6**(3/4)*cos(atan(sqrt(15)/39)/2)/8 + sqrt(6)*cos(atan(sqrt(15)/39)/2)**2/2)))), Integers))"
      ]
     },
     "metadata": {},
     "output_type": "display_data"
    },
    {
     "name": "stdout",
     "output_type": "stream",
     "text": [
      "\n",
      "\n",
      "\n",
      "========== With Interval ==========\n",
      "\n"
     ]
    },
    {
     "data": {
      "text/latex": [
       "$\\displaystyle \\emptyset$"
      ],
      "text/plain": [
       "EmptySet"
      ]
     },
     "metadata": {},
     "output_type": "display_data"
    }
   ],
   "source": [
    "from sympy import * \n",
    "import math\n",
    "print('Ans to the ques no : 02')\n",
    "x = Symbol('x')\n",
    "f = 4*((sin(x))**2)+cos(x)-5 \n",
    "print(f'Given Equation ,')\n",
    "display(f)\n",
    "print()\n",
    "print('========== Without Interval ==========')\n",
    "print()\n",
    "ans_1 = solveset(f,x)\n",
    "display(ans_1)\n",
    "print()\n",
    "print()\n",
    "print()\n",
    "print('========== With Interval ==========')\n",
    "print()\n",
    "i = Interval(-pi , pi)\n",
    "ans_2 = solveset(f , x , i)\n",
    "display(ans_2)"
   ]
  }
 ],
 "metadata": {
  "kernelspec": {
   "display_name": "Python 3",
   "language": "python",
   "name": "python3"
  },
  "language_info": {
   "codemirror_mode": {
    "name": "ipython",
    "version": 3
   },
   "file_extension": ".py",
   "mimetype": "text/x-python",
   "name": "python",
   "nbconvert_exporter": "python",
   "pygments_lexer": "ipython3",
   "version": "3.12.2"
  }
 },
 "nbformat": 4,
 "nbformat_minor": 2
}

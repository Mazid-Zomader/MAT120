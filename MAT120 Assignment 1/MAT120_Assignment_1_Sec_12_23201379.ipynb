{
 "cells": [
  {
   "cell_type": "markdown",
   "metadata": {},
   "source": [
    "**ID : 23201379**\n",
    "\n",
    "***p = 3***\n",
    "\n",
    "***q = 9***"
   ]
  },
  {
   "cell_type": "markdown",
   "metadata": {},
   "source": [
    "**01**"
   ]
  },
  {
   "cell_type": "markdown",
   "metadata": {},
   "source": [
    "***(a)***"
   ]
  },
  {
   "cell_type": "code",
   "execution_count": 163,
   "metadata": {},
   "outputs": [
    {
     "name": "stdout",
     "output_type": "stream",
     "text": [
      "           Ans to the ques no: 01\n",
      "          ========================\n",
      "                      (a)          \n",
      "                     f(x)\n",
      "=================== Given Equatiion ===================\n"
     ]
    },
    {
     "data": {
      "text/latex": [
       "$\\displaystyle p^{x} e^{- \\sin{\\left(x^{p} \\right)}}$"
      ],
      "text/plain": [
       "p**x*exp(-sin(x**p))"
      ]
     },
     "metadata": {},
     "output_type": "display_data"
    },
    {
     "name": "stdout",
     "output_type": "stream",
     "text": [
      "=================== After putting p = 3 ===================\n"
     ]
    },
    {
     "data": {
      "text/latex": [
       "$\\displaystyle 3^{x} e^{- \\sin{\\left(x^{3} \\right)}}$"
      ],
      "text/plain": [
       "3**x*exp(-sin(x**3))"
      ]
     },
     "metadata": {},
     "output_type": "display_data"
    },
    {
     "name": "stdout",
     "output_type": "stream",
     "text": [
      "==================== After 1st Derivative ==============\n"
     ]
    },
    {
     "data": {
      "text/latex": [
       "$\\displaystyle - 3 \\cdot 3^{x} x^{2} e^{- \\sin{\\left(x^{3} \\right)}} \\cos{\\left(x^{3} \\right)} + 3^{x} e^{- \\sin{\\left(x^{3} \\right)}} \\log{\\left(3 \\right)}$"
      ],
      "text/plain": [
       "-3*3**x*x**2*exp(-sin(x**3))*cos(x**3) + 3**x*exp(-sin(x**3))*log(3)"
      ]
     },
     "metadata": {},
     "output_type": "display_data"
    },
    {
     "name": "stdout",
     "output_type": "stream",
     "text": [
      "==================== After 2nd Derivative ==============\n"
     ]
    },
    {
     "data": {
      "text/latex": [
       "$\\displaystyle 3^{x} \\left(- 6 x^{2} \\log{\\left(3 \\right)} \\cos{\\left(x^{3} \\right)} + 3 x \\left(3 x^{3} \\sin{\\left(x^{3} \\right)} + 3 x^{3} \\cos^{2}{\\left(x^{3} \\right)} - 2 \\cos{\\left(x^{3} \\right)}\\right) + \\log{\\left(3 \\right)}^{2}\\right) e^{- \\sin{\\left(x^{3} \\right)}}$"
      ],
      "text/plain": [
       "3**x*(-6*x**2*log(3)*cos(x**3) + 3*x*(3*x**3*sin(x**3) + 3*x**3*cos(x**3)**2 - 2*cos(x**3)) + log(3)**2)*exp(-sin(x**3))"
      ]
     },
     "metadata": {},
     "output_type": "display_data"
    },
    {
     "name": "stdout",
     "output_type": "stream",
     "text": [
      "==================== Calculating Values ==============\n",
      "\n",
      "==================== For 1st Derivative ==============\n",
      "--------->Calculating With x= π/3 \n",
      "df = -1.71176823345224 + 1.26916962998329*log(3)\n",
      "--------->Calculating With x= 2π/3 \n",
      "df = 7.88867498344571*log(3) + 100.891055078346\n",
      "==================== For 2nd Derivative ==============\n",
      "--------->Calculating With x= π/3 \n",
      "dff = -3.42353646690448*log(3) + 1.26916962998329*log(3)**2 + 11.5685731039439\n",
      "--------->Calculating With x= 2π/3 \n",
      "dff = 7.88867498344571*log(3)**2 + 201.782110156692*log(3) + 1708.39073783992\n"
     ]
    }
   ],
   "source": [
    "from sympy import *\n",
    "import math\n",
    "import numpy as np \n",
    "print(\"           Ans to the ques no: 01\")\n",
    "print('          ========================')\n",
    "print(\"                      (a)          \") \n",
    "print(\"                     f(x)\")\n",
    "x , p = symbols('x , p')\n",
    "f = (p**x)*(exp(-sin(x**p)))\n",
    "print ('=================== Given Equatiion ===================')\n",
    "display(f)\n",
    "print ('=================== After putting p = 3 ===================')\n",
    "f = f.subs(p , 3)\n",
    "display(f)\n",
    "print('==================== After 1st Derivative ==============')\n",
    "df = diff(f , x)\n",
    "display (df)\n",
    "print('==================== After 2nd Derivative ==============')\n",
    "dff = diff(f , x ,2)\n",
    "display(dff)\n",
    "print('==================== Calculating Values ==============\\n')\n",
    "print('==================== For 1st Derivative ==============')\n",
    "print(\"--------->Calculating With x= π/3 \")\n",
    "print(\"df =\" ,df.subs(x , np.pi/3))\n",
    "print(\"--------->Calculating With x= 2π/3 \")\n",
    "print(\"df =\" ,df.subs(x , (2*np.pi)/3))\n",
    "print('==================== For 2nd Derivative ==============')\n",
    "print(\"--------->Calculating With x= π/3 \")\n",
    "print(\"dff =\" ,dff.subs(x , np.pi/3))\n",
    "print(\"--------->Calculating With x= 2π/3 \")\n",
    "print(\"dff =\" ,dff.subs(x , (2*np.pi)/3))"
   ]
  },
  {
   "cell_type": "code",
   "execution_count": 167,
   "metadata": {},
   "outputs": [
    {
     "name": "stdout",
     "output_type": "stream",
     "text": [
      "           Ans to the ques no: 01\n",
      "          ========================\n",
      "                      (a)          \n",
      "                      g(x)\n",
      "=================== Given Equatiion ===================\n"
     ]
    },
    {
     "data": {
      "text/latex": [
       "$\\displaystyle \\frac{q + \\tan^{p}{\\left(x \\right)}}{\\cos^{2}{\\left(x \\right)} + 1}$"
      ],
      "text/plain": [
       "(q + tan(x)**p)/(cos(x)**2 + 1)"
      ]
     },
     "metadata": {},
     "output_type": "display_data"
    },
    {
     "name": "stdout",
     "output_type": "stream",
     "text": [
      "=================== After putting p = 3 and q = 9 ===================\n"
     ]
    },
    {
     "data": {
      "text/latex": [
       "$\\displaystyle \\frac{\\tan^{3}{\\left(x \\right)} + 9}{\\cos^{2}{\\left(x \\right)} + 1}$"
      ],
      "text/plain": [
       "(tan(x)**3 + 9)/(cos(x)**2 + 1)"
      ]
     },
     "metadata": {},
     "output_type": "display_data"
    },
    {
     "name": "stdout",
     "output_type": "stream",
     "text": [
      "==================== After 1st Derivative ==============\n",
      "\n"
     ]
    },
    {
     "data": {
      "text/latex": [
       "$\\displaystyle \\frac{\\left(3 \\tan^{2}{\\left(x \\right)} + 3\\right) \\tan^{2}{\\left(x \\right)}}{\\cos^{2}{\\left(x \\right)} + 1} + \\frac{2 \\left(\\tan^{3}{\\left(x \\right)} + 9\\right) \\sin{\\left(x \\right)} \\cos{\\left(x \\right)}}{\\left(\\cos^{2}{\\left(x \\right)} + 1\\right)^{2}}$"
      ],
      "text/plain": [
       "(3*tan(x)**2 + 3)*tan(x)**2/(cos(x)**2 + 1) + 2*(tan(x)**3 + 9)*sin(x)*cos(x)/(cos(x)**2 + 1)**2"
      ]
     },
     "metadata": {},
     "output_type": "display_data"
    },
    {
     "name": "stdout",
     "output_type": "stream",
     "text": [
      "\n",
      "==================== After 2nd Derivative ==============\n",
      "\n"
     ]
    },
    {
     "data": {
      "text/latex": [
       "$\\displaystyle \\frac{2 \\cdot \\left(3 \\left(\\tan^{2}{\\left(x \\right)} + 1\\right) \\left(2 \\tan^{2}{\\left(x \\right)} + 1\\right) \\tan{\\left(x \\right)} + \\frac{6 \\left(\\tan^{2}{\\left(x \\right)} + 1\\right) \\sin{\\left(x \\right)} \\cos{\\left(x \\right)} \\tan^{2}{\\left(x \\right)}}{\\cos^{2}{\\left(x \\right)} + 1} + \\frac{\\left(\\tan^{3}{\\left(x \\right)} + 9\\right) \\left(- \\sin^{2}{\\left(x \\right)} + \\cos^{2}{\\left(x \\right)} + \\frac{4 \\sin^{2}{\\left(x \\right)} \\cos^{2}{\\left(x \\right)}}{\\cos^{2}{\\left(x \\right)} + 1}\\right)}{\\cos^{2}{\\left(x \\right)} + 1}\\right)}{\\cos^{2}{\\left(x \\right)} + 1}$"
      ],
      "text/plain": [
       "2*(3*(tan(x)**2 + 1)*(2*tan(x)**2 + 1)*tan(x) + 6*(tan(x)**2 + 1)*sin(x)*cos(x)*tan(x)**2/(cos(x)**2 + 1) + (tan(x)**3 + 9)*(-sin(x)**2 + cos(x)**2 + 4*sin(x)**2*cos(x)**2/(cos(x)**2 + 1))/(cos(x)**2 + 1))/(cos(x)**2 + 1)"
      ]
     },
     "metadata": {},
     "output_type": "display_data"
    },
    {
     "name": "stdout",
     "output_type": "stream",
     "text": [
      "==================== Calculating Values ==============\n",
      "\n",
      "==================== For 1st Derivative ==============\n",
      "--------->Calculating With x= π/3 \n",
      "df = 36.6683063257983\n",
      "--------->Calculating With x= 2π/3 \n",
      "df = 26.6916936742017\n",
      "==================== For 2nd Derivative ==============\n",
      "--------->Calculating With x= π/3 \n",
      "dff = 274.511186653750\n",
      "--------->Calculating With x= 2π/3 \n",
      "dff = -272.207186653751\n"
     ]
    }
   ],
   "source": [
    "from sympy import *\n",
    "import math\n",
    "import numpy as np \n",
    "print(\"           Ans to the ques no: 01\")\n",
    "print('          ========================')\n",
    "print(\"                      (a)          \") \n",
    "print(\"                      g(x)\")\n",
    "x , p , q = symbols('x , p , q')\n",
    "f = (q+(tan(x))**p)/(1+(cos(x))**2)\n",
    "print ('=================== Given Equatiion ===================')\n",
    "display(f)\n",
    "print ('=================== After putting p = 3 and q = 9 ===================')\n",
    "x = Symbol('x')\n",
    "f = (9+(tan(x))**3)/(1+(cos(x))**2) # p = 3, q = 9\n",
    "display(f)\n",
    "print('==================== After 1st Derivative ==============')\n",
    "print()\n",
    "df = diff(f , x)\n",
    "display (df)\n",
    "print()\n",
    "print('==================== After 2nd Derivative ==============')\n",
    "print()\n",
    "dff = diff(f , x ,2)\n",
    "display(dff)\n",
    "print('==================== Calculating Values ==============\\n')\n",
    "print('==================== For 1st Derivative ==============')\n",
    "print(\"--------->Calculating With x= π/3 \")\n",
    "print(\"df =\" ,df.subs(x , np.pi/3))\n",
    "print(\"--------->Calculating With x= 2π/3 \")\n",
    "print(\"df =\" ,df.subs(x , (2*np.pi)/3))\n",
    "print('==================== For 2nd Derivative ==============')\n",
    "print(\"--------->Calculating With x= π/3 \")\n",
    "print(\"dff =\" ,dff.subs(x , np.pi/3))\n",
    "print(\"--------->Calculating With x= 2π/3 \")\n",
    "print(\"dff =\" ,dff.subs(x , (2*np.pi)/3))"
   ]
  },
  {
   "cell_type": "markdown",
   "metadata": {},
   "source": [
    "***(b)***"
   ]
  },
  {
   "cell_type": "code",
   "execution_count": 2,
   "metadata": {},
   "outputs": [
    {
     "name": "stdout",
     "output_type": "stream",
     "text": [
      "           Ans to the ques no: 01\n",
      "          ========================\n",
      "                      (b)          \n",
      "\n",
      "\n",
      "================== Given Equatiion ==================\n"
     ]
    },
    {
     "data": {
      "text/latex": [
       "$\\displaystyle \\sin{\\left(p x \\right)}$"
      ],
      "text/plain": [
       "sin(p*x)"
      ]
     },
     "metadata": {},
     "output_type": "display_data"
    },
    {
     "name": "stdout",
     "output_type": "stream",
     "text": [
      "y = sin(p*x)\n",
      "=================== After 1st Derivative =============\n"
     ]
    },
    {
     "data": {
      "text/latex": [
       "$\\displaystyle p \\cos{\\left(p x \\right)}$"
      ],
      "text/plain": [
       "p*cos(p*x)"
      ]
     },
     "metadata": {},
     "output_type": "display_data"
    },
    {
     "name": "stdout",
     "output_type": "stream",
     "text": [
      "y1 = p*cos(p*x)\n",
      "=================== After 2nd Derivative =============\n"
     ]
    },
    {
     "data": {
      "text/latex": [
       "$\\displaystyle - p^{2} \\sin{\\left(p x \\right)}$"
      ],
      "text/plain": [
       "-p**2*sin(p*x)"
      ]
     },
     "metadata": {},
     "output_type": "display_data"
    },
    {
     "name": "stdout",
     "output_type": "stream",
     "text": [
      "y2 = -p**2*sin(p*x)\n",
      "\n",
      "                      (a)          \n",
      "\n",
      "================== Given Equatiion ==================\n",
      "f = y2 + 3y1 − qy\n",
      "Thus, f =\n"
     ]
    },
    {
     "data": {
      "text/latex": [
       "$\\displaystyle - p^{2} \\sin{\\left(p x \\right)} + 3 p \\cos{\\left(p x \\right)} - q \\sin{\\left(p x \\right)}$"
      ],
      "text/plain": [
       "-p**2*sin(p*x) + 3*p*cos(p*x) - q*sin(p*x)"
      ]
     },
     "metadata": {},
     "output_type": "display_data"
    },
    {
     "name": "stdout",
     "output_type": "stream",
     "text": [
      "=========== After putting p = 3 and q = 9 ===========\n"
     ]
    },
    {
     "data": {
      "text/latex": [
       "$\\displaystyle - 18 \\sin{\\left(3 x \\right)} + 9 \\cos{\\left(3 x \\right)}$"
      ],
      "text/plain": [
       "-18*sin(3*x) + 9*cos(3*x)"
      ]
     },
     "metadata": {},
     "output_type": "display_data"
    },
    {
     "name": "stdout",
     "output_type": "stream",
     "text": [
      "\n",
      "                      (b)          \n",
      "\n",
      "==================== After 1st Derivative ==============\n"
     ]
    },
    {
     "data": {
      "text/latex": [
       "$\\displaystyle - 27 \\sin{\\left(3 x \\right)} - 54 \\cos{\\left(3 x \\right)}$"
      ],
      "text/plain": [
       "-27*sin(3*x) - 54*cos(3*x)"
      ]
     },
     "metadata": {},
     "output_type": "display_data"
    },
    {
     "name": "stdout",
     "output_type": "stream",
     "text": [
      "==================== After 2nd Derivative ==============\n"
     ]
    },
    {
     "data": {
      "text/latex": [
       "$\\displaystyle 81 \\cdot \\left(2 \\sin{\\left(3 x \\right)} - \\cos{\\left(3 x \\right)}\\right)$"
      ],
      "text/plain": [
       "81*(2*sin(3*x) - cos(3*x))"
      ]
     },
     "metadata": {},
     "output_type": "display_data"
    },
    {
     "name": "stdout",
     "output_type": "stream",
     "text": [
      "===============The roots of given equations are :===========\n"
     ]
    },
    {
     "data": {
      "text/latex": [
       "$\\displaystyle \\left\\{- \\frac{4 \\pi}{3} - \\frac{\\operatorname{atan}{\\left(2 \\right)}}{3}, - \\pi - \\frac{\\operatorname{atan}{\\left(2 \\right)}}{3}, - \\frac{2 \\pi}{3} - \\frac{\\operatorname{atan}{\\left(2 \\right)}}{3}, - \\frac{\\pi}{3} - \\frac{\\operatorname{atan}{\\left(2 \\right)}}{3}, \\pi - \\frac{\\operatorname{atan}{\\left(2 \\right)}}{3}, - \\frac{\\operatorname{atan}{\\left(2 \\right)}}{3} + \\frac{\\pi}{3}, - \\frac{\\operatorname{atan}{\\left(2 \\right)}}{3} + \\frac{2 \\pi}{3}, - \\frac{\\operatorname{atan}{\\left(2 \\right)}}{3} + \\frac{4 \\pi}{3}, - \\frac{\\operatorname{atan}{\\left(2 \\right)}}{3} + \\frac{5 \\pi}{3}, - \\frac{\\operatorname{atan}{\\left(2 \\right)}}{3} + 2 \\pi, - \\frac{\\operatorname{atan}{\\left(2 \\right)}}{3} + \\frac{7 \\pi}{3}, - \\frac{\\operatorname{atan}{\\left(2 \\right)}}{3}\\right\\}$"
      ],
      "text/plain": [
       "{-4*pi/3 - atan(2)/3, -pi - atan(2)/3, -2*pi/3 - atan(2)/3, -pi/3 - atan(2)/3, pi - atan(2)/3, -atan(2)/3 + pi/3, -atan(2)/3 + 2*pi/3, -atan(2)/3 + 4*pi/3, -atan(2)/3 + 5*pi/3, -atan(2)/3 + 2*pi, -atan(2)/3 + 7*pi/3, -atan(2)/3}"
      ]
     },
     "metadata": {},
     "output_type": "display_data"
    },
    {
     "name": "stdout",
     "output_type": "stream",
     "text": [
      "===================Results=====================\n",
      "Maxima = 9*sqrt(5) for x = -atan(2)/3\n",
      "Minima = -9*sqrt(5) for x = pi - atan(2)/3\n",
      "Maxima = 9*sqrt(5) for x = -4*pi/3 - atan(2)/3\n",
      "Minima = -9*sqrt(5) for x = -pi - atan(2)/3\n",
      "Maxima = 9*sqrt(5) for x = -2*pi/3 - atan(2)/3\n",
      "Minima = -9*sqrt(5) for x = -pi/3 - atan(2)/3\n",
      "Minima = -9*sqrt(5) for x = -atan(2)/3 + pi/3\n",
      "Maxima = 9*sqrt(5) for x = -atan(2)/3 + 2*pi/3\n",
      "Maxima = 9*sqrt(5) for x = -atan(2)/3 + 4*pi/3\n",
      "Minima = -9*sqrt(5) for x = -atan(2)/3 + 5*pi/3\n",
      "Maxima = 9*sqrt(5) for x = -atan(2)/3 + 2*pi\n",
      "Minima = -9*sqrt(5) for x = -atan(2)/3 + 7*pi/3\n",
      "\n",
      "\n",
      "===================Plotting=====================\n"
     ]
    },
    {
     "data": {
      "image/png": "[encoded data removed]",
      "text/plain": [
       "<Figure size 640x480 with 1 Axes>"
      ]
     },
     "metadata": {},
     "output_type": "display_data"
    }
   ],
   "source": [
    "from sympy import *\n",
    "import math\n",
    "import numpy as np \n",
    "print(\"           Ans to the ques no: 01\")\n",
    "print('          ========================')\n",
    "print(\"                      (b)          \") \n",
    "print(\"\\n\")\n",
    "x , p , q = symbols('x , p , q')\n",
    "y = sin(p*x)\n",
    "print ('================== Given Equatiion ==================')\n",
    "display(y)\n",
    "print(\"y =\", y)\n",
    "print('=================== After 1st Derivative =============')\n",
    "y1 = diff(y , x)\n",
    "display(y1)\n",
    "print(\"y1 =\", y1)\n",
    "print('=================== After 2nd Derivative =============')\n",
    "y2 = diff(y , x , 2)\n",
    "display(y2)\n",
    "print(\"y2 =\", y2)\n",
    "print()\n",
    "print(\"                      (a)          \") \n",
    "print()\n",
    "print ('================== Given Equatiion ==================')\n",
    "print(\"f = y2 + 3y1 − qy\\nThus, f =\")\n",
    "f = (y2) + (3*y1) - (q*y)\n",
    "display(f)\n",
    "print ('=========== After putting p = 3 and q = 9 ===========')\n",
    "f = f.subs(p , 3)\n",
    "f = f.subs(q , 9)\n",
    "display(f)\n",
    "print()\n",
    "print(\"                      (b)          \") \n",
    "print()\n",
    "print('==================== After 1st Derivative ==============')\n",
    "df = diff(f , x)\n",
    "display (df)\n",
    "print('==================== After 2nd Derivative ==============')\n",
    "dff = diff(f , x ,2)\n",
    "display(dff)\n",
    "i = Interval(((-3*np.pi)/2) , ((5*np.pi)/2))\n",
    "disp_roots = solveset(df , x , i)\n",
    "print ('===============The roots of given equations are :===========' )\n",
    "display (disp_roots)\n",
    "print('===================Results=====================')\n",
    "for index in disp_roots :\n",
    "    if np.imag(complex(index)) != 0 :\n",
    "        print (f'No extremum for x = {index}')\n",
    "    elif dff.subs(x , index) < 0 :\n",
    "        print(f'Maxima = {f.subs(x , index)} for x = {index}')\n",
    "    else :\n",
    "        print(f'Minima = {f.subs(x , index)} for x = {index}')\n",
    "print(\"\\n\")\n",
    "print(\"===================Plotting=====================\")\n",
    "graph = plot((f), (df) , (x ,((-3*np.pi)/2) , ((5*np.pi)/2)) , title = \"Graph\" , xlabel = 'x' , y = \"f(x)\" , show = False )\n",
    "graph[0].line_color = 'g'\n",
    "graph[1].line_color = 'r'\n",
    "graph.show()\n",
    "#graph.save(\"Plotted-Graph.png\")"
   ]
  },
  {
   "cell_type": "markdown",
   "metadata": {},
   "source": [
    "**02**\n",
    "***(a)***"
   ]
  },
  {
   "cell_type": "code",
   "execution_count": 48,
   "metadata": {},
   "outputs": [
    {
     "name": "stdout",
     "output_type": "stream",
     "text": [
      "================== Given Equatiion ==================\n"
     ]
    },
    {
     "data": {
      "text/latex": [
       "$\\displaystyle a x^{3} + b x^{2} y - c z^{3}$"
      ],
      "text/plain": [
       "a*x**3 + b*x**2*y - c*z**3"
      ]
     },
     "metadata": {},
     "output_type": "display_data"
    },
    {
     "name": "stdout",
     "output_type": "stream",
     "text": [
      "=================== After 1st Derivative with respect to x =============\n"
     ]
    },
    {
     "data": {
      "text/latex": [
       "$\\displaystyle 3 a x^{2} + 2 b x y$"
      ],
      "text/plain": [
       "3*a*x**2 + 2*b*x*y"
      ]
     },
     "metadata": {},
     "output_type": "display_data"
    },
    {
     "name": "stdout",
     "output_type": "stream",
     "text": [
      "=================== After 2nd Derivative with respect to x =============\n"
     ]
    },
    {
     "data": {
      "text/latex": [
       "$\\displaystyle 2 \\cdot \\left(3 a x + b y\\right)$"
      ],
      "text/plain": [
       "2*(3*a*x + b*y)"
      ]
     },
     "metadata": {},
     "output_type": "display_data"
    },
    {
     "name": "stdout",
     "output_type": "stream",
     "text": [
      "=================== After 1st Derivative with respect to y =============\n"
     ]
    },
    {
     "data": {
      "text/latex": [
       "$\\displaystyle b x^{2}$"
      ],
      "text/plain": [
       "b*x**2"
      ]
     },
     "metadata": {},
     "output_type": "display_data"
    },
    {
     "name": "stdout",
     "output_type": "stream",
     "text": [
      "=================== After 2nd Derivative with respect to y =============\n"
     ]
    },
    {
     "data": {
      "text/latex": [
       "$\\displaystyle 0$"
      ],
      "text/plain": [
       "0"
      ]
     },
     "metadata": {},
     "output_type": "display_data"
    },
    {
     "name": "stdout",
     "output_type": "stream",
     "text": [
      "=================== After 1st Derivative with respect to z =============\n"
     ]
    },
    {
     "data": {
      "text/latex": [
       "$\\displaystyle - 3 c z^{2}$"
      ],
      "text/plain": [
       "-3*c*z**2"
      ]
     },
     "metadata": {},
     "output_type": "display_data"
    },
    {
     "name": "stdout",
     "output_type": "stream",
     "text": [
      "=================== After 2nd Derivative with respect to z =============\n"
     ]
    },
    {
     "data": {
      "text/latex": [
       "$\\displaystyle - 6 c z$"
      ],
      "text/plain": [
       "-6*c*z"
      ]
     },
     "metadata": {},
     "output_type": "display_data"
    },
    {
     "name": "stdout",
     "output_type": "stream",
     "text": [
      "=================== The Required Laplacian =============\n"
     ]
    },
    {
     "data": {
      "text/latex": [
       "$\\displaystyle - 6 c z + 2 \\cdot \\left(3 a x + b y\\right)$"
      ],
      "text/plain": [
       "-6*c*z + 2*(3*a*x + b*y)"
      ]
     },
     "metadata": {},
     "output_type": "display_data"
    },
    {
     "name": "stdout",
     "output_type": "stream",
     "text": [
      "=================== The Required Laplacian at point (2, -1, 1)=============\n"
     ]
    },
    {
     "data": {
      "text/latex": [
       "$\\displaystyle 12 a - 2 b - 6 c$"
      ],
      "text/plain": [
       "12*a - 2*b - 6*c"
      ]
     },
     "metadata": {},
     "output_type": "display_data"
    }
   ],
   "source": [
    "import sympy as sp\n",
    "import math as mt\n",
    "import numpy as np\n",
    "x , y , z ,a , b , c = sp.symbols('x , y , z , a , b , c')\n",
    "f = a*x**3+b*x**2*y-c*z**3\n",
    "print ('================== Given Equatiion ==================')\n",
    "display(f)\n",
    "def dev_one(m) :\n",
    "    return sp.diff(f , m) \n",
    "def dev_two(n) :\n",
    "    return sp.diff(f , n , 2)\n",
    "print('=================== After 1st Derivative with respect to x =============')\n",
    "df_x = dev_one(x)\n",
    "display(df_x)\n",
    "print('=================== After 2nd Derivative with respect to x =============')\n",
    "dff_x = dev_two(x)\n",
    "display(dff_x)\n",
    "print('=================== After 1st Derivative with respect to y =============')\n",
    "df_y = dev_one(y)\n",
    "display(df_y)\n",
    "print('=================== After 2nd Derivative with respect to y =============')\n",
    "dff_y = dev_two(y)\n",
    "display(dff_y)\n",
    "print('=================== After 1st Derivative with respect to z =============')\n",
    "df_z = dev_one(z)\n",
    "display(df_z)\n",
    "print('=================== After 2nd Derivative with respect to z =============')\n",
    "dff_z = dev_two(z)\n",
    "display(dff_z)\n",
    "print('=================== The Required Laplacian =============')\n",
    "Laplacian = dff_x + dff_y + dff_z\n",
    "display(Laplacian)\n",
    "print('=================== The Required Laplacian at point (2, -1, 1)=============')\n",
    "laplacian = Laplacian.subs(x, 2)\n",
    "laplacian = laplacian.subs(y, -1)\n",
    "laplacian = laplacian.subs(z, 1)\n",
    "display(laplacian)"
   ]
  },
  {
   "cell_type": "markdown",
   "metadata": {},
   "source": [
    "**02**\n",
    "***(b)***"
   ]
  },
  {
   "cell_type": "markdown",
   "metadata": {},
   "source": [
    "**Option 01**"
   ]
  },
  {
   "cell_type": "code",
   "execution_count": 1,
   "metadata": {},
   "outputs": [
    {
     "name": "stdout",
     "output_type": "stream",
     "text": [
      "The factorial of 13.7 is 39203858337.20441.\n"
     ]
    }
   ],
   "source": [
    "import math as mt\n",
    "number = 13.7\n",
    "factorial = mt.gamma(number+1)\n",
    "\n",
    "print(f\"The factorial of {number} is {factorial}.\")"
   ]
  },
  {
   "cell_type": "markdown",
   "metadata": {},
   "source": [
    "**Option 02**"
   ]
  },
  {
   "cell_type": "code",
   "execution_count": 10,
   "metadata": {},
   "outputs": [
    {
     "name": "stdout",
     "output_type": "stream",
     "text": [
      "================== Given Expression ==================\n"
     ]
    },
    {
     "data": {
      "text/latex": [
       "$\\displaystyle x^{13.7} e^{- x}$"
      ],
      "text/plain": [
       "x**13.7*exp(-x)"
      ]
     },
     "metadata": {},
     "output_type": "display_data"
    },
    {
     "name": "stdout",
     "output_type": "stream",
     "text": [
      "The factorial of 13.7 is 39203858337.2044.\n"
     ]
    }
   ],
   "source": [
    "import math as mt\n",
    "import sympy as sp\n",
    "x = sp.Symbol('x')\n",
    "num = 13.7\n",
    "f=sp.exp(-x)*x**num\n",
    "print ('================== Given Expression ==================')\n",
    "display(f)\n",
    "factorial = sp.integrate(f , (x , 0 , sp.oo))\n",
    "print(f\"The factorial of {num} is {factorial}.\")"
   ]
  },
  {
   "cell_type": "markdown",
   "metadata": {},
   "source": [
    "**02**\n",
    "***(c)***"
   ]
  },
  {
   "cell_type": "code",
   "execution_count": 2,
   "metadata": {},
   "outputs": [
    {
     "name": "stdout",
     "output_type": "stream",
     "text": [
      "================== Given Equatiion ==================\n"
     ]
    },
    {
     "data": {
      "text/latex": [
       "$\\displaystyle \\frac{1}{p^{2} \\cos^{2}{\\left(x \\right)} + \\left(q + 1\\right)^{2} \\sin^{2}{\\left(x \\right)}}$"
      ],
      "text/plain": [
       "1/(p**2*cos(x)**2 + (q + 1)**2*sin(x)**2)"
      ]
     },
     "metadata": {},
     "output_type": "display_data"
    },
    {
     "name": "stdout",
     "output_type": "stream",
     "text": [
      "=========== After putting p = 3 and q = 9 ===========\n"
     ]
    },
    {
     "data": {
      "text/latex": [
       "$\\displaystyle \\frac{1}{100 \\sin^{2}{\\left(x \\right)} + 9 \\cos^{2}{\\left(x \\right)}}$"
      ],
      "text/plain": [
       "1/(100*sin(x)**2 + 9*cos(x)**2)"
      ]
     },
     "metadata": {},
     "output_type": "display_data"
    },
    {
     "name": "stdout",
     "output_type": "stream",
     "text": [
      "===================Results=====================\n",
      "\n"
     ]
    },
    {
     "data": {
      "text/latex": [
       "$\\displaystyle \\frac{713237257121490 \\sqrt{20 \\sqrt{91} + 191} \\left(- \\pi + \\operatorname{atan}{\\left(\\frac{3.0}{\\sqrt{20 \\sqrt{91} + 191}} \\right)}\\right)}{43827391762412400 \\sqrt{91} + 418086670980233070} + \\frac{74767580162559 \\sqrt{91} \\sqrt{20 \\sqrt{91} + 191} \\left(- \\pi + \\operatorname{atan}{\\left(\\frac{3.0}{\\sqrt{20 \\sqrt{91} + 191}} \\right)}\\right)}{43827391762412400 \\sqrt{91} + 418086670980233070} + \\frac{30256145778451330 \\sqrt{191 - 20 \\sqrt{91}} \\left(- \\pi + \\operatorname{atan}{\\left(\\frac{3.0}{\\sqrt{191 - 20 \\sqrt{91}}} \\right)}\\right)}{43827391762412400 \\sqrt{91} + 418086670980233070} + \\frac{3171705883719841 \\sqrt{91} \\sqrt{191 - 20 \\sqrt{91}} \\left(- \\pi + \\operatorname{atan}{\\left(\\frac{3.0}{\\sqrt{191 - 20 \\sqrt{91}}} \\right)}\\right)}{43827391762412400 \\sqrt{91} + 418086670980233070} + \\frac{713237257121490 \\pi \\sqrt{20 \\sqrt{91} + 191}}{43827391762412400 \\sqrt{91} + 418086670980233070} + \\frac{30256145778451330 \\pi \\sqrt{191 - 20 \\sqrt{91}}}{43827391762412400 \\sqrt{91} + 418086670980233070} + \\frac{74767580162559 \\sqrt{91} \\pi \\sqrt{20 \\sqrt{91} + 191}}{43827391762412400 \\sqrt{91} + 418086670980233070} + \\frac{3171705883719841 \\sqrt{91} \\pi \\sqrt{191 - 20 \\sqrt{91}}}{43827391762412400 \\sqrt{91} + 418086670980233070}$"
      ],
      "text/plain": [
       "713237257121490*sqrt(20*sqrt(91) + 191)*(-pi + atan(3.0/sqrt(20*sqrt(91) + 191)))/(43827391762412400*sqrt(91) + 418086670980233070) + 74767580162559*sqrt(91)*sqrt(20*sqrt(91) + 191)*(-pi + atan(3.0/sqrt(20*sqrt(91) + 191)))/(43827391762412400*sqrt(91) + 418086670980233070) + 30256145778451330*sqrt(191 - 20*sqrt(91))*(-pi + atan(3.0/sqrt(191 - 20*sqrt(91))))/(43827391762412400*sqrt(91) + 418086670980233070) + 3171705883719841*sqrt(91)*sqrt(191 - 20*sqrt(91))*(-pi + atan(3.0/sqrt(191 - 20*sqrt(91))))/(43827391762412400*sqrt(91) + 418086670980233070) + 713237257121490*pi*sqrt(20*sqrt(91) + 191)/(43827391762412400*sqrt(91) + 418086670980233070) + 30256145778451330*pi*sqrt(191 - 20*sqrt(91))/(43827391762412400*sqrt(91) + 418086670980233070) + 74767580162559*sqrt(91)*pi*sqrt(20*sqrt(91) + 191)/(43827391762412400*sqrt(91) + 418086670980233070) + 3171705883719841*sqrt(91)*pi*sqrt(191 - 20*sqrt(91))/(43827391762412400*sqrt(91) + 418086670980233070)"
      ]
     },
     "metadata": {},
     "output_type": "display_data"
    }
   ],
   "source": [
    "from sympy import *\n",
    "import numpy as np\n",
    "x , p , q = symbols('x , p , q')\n",
    "f = 1/(((p**2)*(cos(x)**2))+(((1+q)**2)*sin(x)**2))\n",
    "print ('================== Given Equatiion ==================')\n",
    "display(f)\n",
    "print ('=========== After putting p = 3 and q = 9 ===========')\n",
    "f = f.subs(p , 3)\n",
    "f = f.subs(q , 9)\n",
    "display(f)\n",
    "result = integrate(f , (x , 0 , np.pi/2))\n",
    "print('===================Results=====================\\n')\n",
    "display(result)"
   ]
  },
  {
   "cell_type": "markdown",
   "metadata": {},
   "source": [
    "**02**\n",
    "***(d)***"
   ]
  },
  {
   "cell_type": "markdown",
   "metadata": {},
   "source": [
    "The work done on an object by a force is given by the integral of the force over the displacement. In this case, the force is given by (F = -2x - 0.1x^3).\n",
    "\n",
    "The work (W) done to move the object from (x = 0) to (x = 2) is given by:"
   ]
  },
  {
   "cell_type": "code",
   "execution_count": 15,
   "metadata": {},
   "outputs": [
    {
     "name": "stdout",
     "output_type": "stream",
     "text": [
      "================== Given Equatiion ==================\n"
     ]
    },
    {
     "data": {
      "text/latex": [
       "$\\displaystyle - 0.1 x^{3} - 2 x$"
      ],
      "text/plain": [
       "-0.1*x**3 - 2*x"
      ]
     },
     "metadata": {},
     "output_type": "display_data"
    },
    {
     "name": "stdout",
     "output_type": "stream",
     "text": [
      "===================Results=====================\n",
      "\n"
     ]
    },
    {
     "data": {
      "text/latex": [
       "$\\displaystyle -4.4$"
      ],
      "text/plain": [
       "-4.40000000000000"
      ]
     },
     "metadata": {},
     "output_type": "display_data"
    },
    {
     "name": "stdout",
     "output_type": "stream",
     "text": [
      "The work done is -4.40 joule\n"
     ]
    }
   ],
   "source": [
    "import sympy as sp\n",
    "import numpy as np\n",
    "x = sp.Symbol('x')\n",
    "print ('================== Given Equatiion ==================')\n",
    "f = -2*x-0.1*x**3\n",
    "display(f)\n",
    "print('===================Results=====================\\n')\n",
    "result = sp.integrate(f , ( x , 0 , 2))\n",
    "display(result)\n",
    "print(f\"The work done is {round(result , 2)} joule\")"
   ]
  }
 ],
 "metadata": {
  "kernelspec": {
   "display_name": "Python 3",
   "language": "python",
   "name": "python3"
  },
  "language_info": {
   "codemirror_mode": {
    "name": "ipython",
    "version": 3
   },
   "file_extension": ".py",
   "mimetype": "text/x-python",
   "name": "python",
   "nbconvert_exporter": "python",
   "pygments_lexer": "ipython3",
   "version": "3.12.2"
  }
 },
 "nbformat": 4,
 "nbformat_minor": 2
}
